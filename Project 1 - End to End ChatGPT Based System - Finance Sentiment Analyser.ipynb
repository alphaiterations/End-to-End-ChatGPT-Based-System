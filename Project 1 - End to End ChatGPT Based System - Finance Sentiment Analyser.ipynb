{
 "cells": [
  {
   "cell_type": "markdown",
   "id": "6fff1c96-e14f-4ff8-82a8-52d25152bc0d",
   "metadata": {},
   "source": [
    "## 1. Importing the required libraries"
   ]
  },
  {
   "cell_type": "code",
   "execution_count": 391,
   "id": "e7b8e706-5c88-480f-86e7-45c1c19ac84c",
   "metadata": {},
   "outputs": [],
   "source": [
    "from openai import OpenAI\n",
    "import os\n",
    "import pandas as pd\n",
    "import math\n",
    "import numpy as np\n",
    "from datetime import datetime"
   ]
  },
  {
   "cell_type": "markdown",
   "id": "f694bf6f-82e5-4c5d-88f9-e8991a6fe6cf",
   "metadata": {},
   "source": [
    "## 2. Settting up the API connections and Chat Completion Function"
   ]
  },
  {
   "cell_type": "code",
   "execution_count": 392,
   "id": "98b8cf37-5c56-4df1-856e-d2b14f9ae94d",
   "metadata": {},
   "outputs": [],
   "source": [
    "\n",
    "\n",
    "\n",
    "os.environ[\"OPENAI_API_KEY\"] = YOUR_OPENAI_API_KEY\n",
    "GPT_MODEL = \"gpt-3.5-turbo\"\n",
    "\n",
    "def chat_completion_request(messages, tools=None, tool_choice=None, model=GPT_MODEL):\n",
    "    try:\n",
    "        client = OpenAI()\n",
    "        response = client.chat.completions.create(\n",
    "            model=model,\n",
    "            messages=messages,\n",
    "            tools=tools,\n",
    "            tool_choice=tool_choice,\n",
    "            temperature = 0,\n",
    "        )\n",
    "        return response\n",
    "        \n",
    "    except Exception as e:\n",
    "        print(\"Unable to generate ChatCompletion response\")\n",
    "        print(f\"Exception: {e}\")\n",
    "        return e"
   ]
  },
  {
   "cell_type": "markdown",
   "id": "991746b5-b83a-4b86-b056-87f049f08da1",
   "metadata": {},
   "source": [
    "## 3. Reading the data and basic EDA"
   ]
  },
  {
   "cell_type": "code",
   "execution_count": 393,
   "id": "6a5e96b7-2156-4570-837e-05a9ec09ca8e",
   "metadata": {},
   "outputs": [
    {
     "data": {
      "text/html": [
       "<div>\n",
       "<style scoped>\n",
       "    .dataframe tbody tr th:only-of-type {\n",
       "        vertical-align: middle;\n",
       "    }\n",
       "\n",
       "    .dataframe tbody tr th {\n",
       "        vertical-align: top;\n",
       "    }\n",
       "\n",
       "    .dataframe thead th {\n",
       "        text-align: right;\n",
       "    }\n",
       "</style>\n",
       "<table border=\"1\" class=\"dataframe\">\n",
       "  <thead>\n",
       "    <tr style=\"text-align: right;\">\n",
       "      <th></th>\n",
       "      <th>Sentence</th>\n",
       "      <th>Sentiment</th>\n",
       "    </tr>\n",
       "  </thead>\n",
       "  <tbody>\n",
       "    <tr>\n",
       "      <th>0</th>\n",
       "      <td>The GeoSolutions technology will leverage Bene...</td>\n",
       "      <td>positive</td>\n",
       "    </tr>\n",
       "    <tr>\n",
       "      <th>1</th>\n",
       "      <td>$ESI on lows, down $1.50 to $2.50 BK a real po...</td>\n",
       "      <td>negative</td>\n",
       "    </tr>\n",
       "    <tr>\n",
       "      <th>2</th>\n",
       "      <td>For the last quarter of 2010 , Componenta 's n...</td>\n",
       "      <td>positive</td>\n",
       "    </tr>\n",
       "    <tr>\n",
       "      <th>3</th>\n",
       "      <td>According to the Finnish-Russian Chamber of Co...</td>\n",
       "      <td>neutral</td>\n",
       "    </tr>\n",
       "    <tr>\n",
       "      <th>4</th>\n",
       "      <td>The Swedish buyout firm has sold its remaining...</td>\n",
       "      <td>neutral</td>\n",
       "    </tr>\n",
       "  </tbody>\n",
       "</table>\n",
       "</div>"
      ],
      "text/plain": [
       "                                            Sentence Sentiment\n",
       "0  The GeoSolutions technology will leverage Bene...  positive\n",
       "1  $ESI on lows, down $1.50 to $2.50 BK a real po...  negative\n",
       "2  For the last quarter of 2010 , Componenta 's n...  positive\n",
       "3  According to the Finnish-Russian Chamber of Co...   neutral\n",
       "4  The Swedish buyout firm has sold its remaining...   neutral"
      ]
     },
     "execution_count": 393,
     "metadata": {},
     "output_type": "execute_result"
    }
   ],
   "source": [
    "## Data is taken from https://www.kaggle.com/datasets/sbhatti/financial-sentiment-analysis\n",
    "df = pd.read_csv(\"data 2.csv\")\n",
    "df.head()"
   ]
  },
  {
   "cell_type": "code",
   "execution_count": 408,
   "id": "5d94b8ae-7d34-4df9-b0dc-a259ca8a83fb",
   "metadata": {},
   "outputs": [
    {
     "name": "stdout",
     "output_type": "stream",
     "text": [
      "Total no. of sentences:  5842\n"
     ]
    },
    {
     "data": {
      "text/plain": [
       "Sentiment\n",
       "neutral     3130\n",
       "positive    1852\n",
       "negative     860\n",
       "Name: count, dtype: int64"
      ]
     },
     "execution_count": 408,
     "metadata": {},
     "output_type": "execute_result"
    }
   ],
   "source": [
    "#total sentences and Sentiment Distribution\n",
    "print(\"Total no. of sentences: \", df.shape[0])\n",
    "df[\"Sentiment\"].value_counts()"
   ]
  },
  {
   "cell_type": "code",
   "execution_count": 396,
   "id": "d3b46265-4fd9-44cd-93e4-7d20f163199e",
   "metadata": {},
   "outputs": [],
   "source": [
    "df.to_clipboard()"
   ]
  },
  {
   "cell_type": "markdown",
   "id": "99c5da07-de45-4b0f-a7d0-3cb1b680b62e",
   "metadata": {},
   "source": [
    "## 4. Taking a sample dataset for Prompt Engineering"
   ]
  },
  {
   "cell_type": "code",
   "execution_count": 397,
   "id": "7c60d57c-98fa-4f3a-9a97-d68f228d8451",
   "metadata": {},
   "outputs": [
    {
     "data": {
      "text/plain": [
       "Sentiment\n",
       "neutral     49\n",
       "positive    35\n",
       "negative    16\n",
       "Name: count, dtype: int64"
      ]
     },
     "execution_count": 397,
     "metadata": {},
     "output_type": "execute_result"
    }
   ],
   "source": [
    "#taking validation sample of 100 sentences randomly \n",
    "df_validation = df.sample(100, random_state = 1)\n",
    "df_validation = df_validation.reset_index(drop=True).reset_index()\n",
    "df_validation[\"Sentiment\"].value_counts()"
   ]
  },
  {
   "cell_type": "code",
   "execution_count": 398,
   "id": "8b0ddddd-7d06-4a0f-9ca5-8df55a588b62",
   "metadata": {},
   "outputs": [
    {
     "data": {
      "text/html": [
       "<div>\n",
       "<style scoped>\n",
       "    .dataframe tbody tr th:only-of-type {\n",
       "        vertical-align: middle;\n",
       "    }\n",
       "\n",
       "    .dataframe tbody tr th {\n",
       "        vertical-align: top;\n",
       "    }\n",
       "\n",
       "    .dataframe thead th {\n",
       "        text-align: right;\n",
       "    }\n",
       "</style>\n",
       "<table border=\"1\" class=\"dataframe\">\n",
       "  <thead>\n",
       "    <tr style=\"text-align: right;\">\n",
       "      <th></th>\n",
       "      <th>index</th>\n",
       "      <th>Sentence</th>\n",
       "      <th>Sentiment</th>\n",
       "    </tr>\n",
       "  </thead>\n",
       "  <tbody>\n",
       "    <tr>\n",
       "      <th>0</th>\n",
       "      <td>0</td>\n",
       "      <td>The loss for the third quarter of 2007 was EUR...</td>\n",
       "      <td>positive</td>\n",
       "    </tr>\n",
       "    <tr>\n",
       "      <th>1</th>\n",
       "      <td>1</td>\n",
       "      <td>The winner does not have to be present to win .</td>\n",
       "      <td>neutral</td>\n",
       "    </tr>\n",
       "    <tr>\n",
       "      <th>2</th>\n",
       "      <td>2</td>\n",
       "      <td>$BOBE down $2.84  premarket</td>\n",
       "      <td>negative</td>\n",
       "    </tr>\n",
       "    <tr>\n",
       "      <th>3</th>\n",
       "      <td>3</td>\n",
       "      <td>$MTD (Mettler-Toledo) ready for a breakout</td>\n",
       "      <td>positive</td>\n",
       "    </tr>\n",
       "    <tr>\n",
       "      <th>4</th>\n",
       "      <td>4</td>\n",
       "      <td>Finnish M-real 's Kyro mill is starting negoti...</td>\n",
       "      <td>neutral</td>\n",
       "    </tr>\n",
       "    <tr>\n",
       "      <th>...</th>\n",
       "      <td>...</td>\n",
       "      <td>...</td>\n",
       "      <td>...</td>\n",
       "    </tr>\n",
       "    <tr>\n",
       "      <th>95</th>\n",
       "      <td>95</td>\n",
       "      <td>According to Bosse , the present cooperation i...</td>\n",
       "      <td>positive</td>\n",
       "    </tr>\n",
       "    <tr>\n",
       "      <th>96</th>\n",
       "      <td>96</td>\n",
       "      <td>$NUGT Gold above 1400...wow</td>\n",
       "      <td>positive</td>\n",
       "    </tr>\n",
       "    <tr>\n",
       "      <th>97</th>\n",
       "      <td>97</td>\n",
       "      <td>In Finland , Hamina Cargo Terminal , of Finnis...</td>\n",
       "      <td>neutral</td>\n",
       "    </tr>\n",
       "    <tr>\n",
       "      <th>98</th>\n",
       "      <td>98</td>\n",
       "      <td>Small investors have voiced fears that the sha...</td>\n",
       "      <td>neutral</td>\n",
       "    </tr>\n",
       "    <tr>\n",
       "      <th>99</th>\n",
       "      <td>99</td>\n",
       "      <td>Other details were not provided .</td>\n",
       "      <td>neutral</td>\n",
       "    </tr>\n",
       "  </tbody>\n",
       "</table>\n",
       "<p>100 rows × 3 columns</p>\n",
       "</div>"
      ],
      "text/plain": [
       "    index                                           Sentence Sentiment\n",
       "0       0  The loss for the third quarter of 2007 was EUR...  positive\n",
       "1       1    The winner does not have to be present to win .   neutral\n",
       "2       2                        $BOBE down $2.84  premarket  negative\n",
       "3       3         $MTD (Mettler-Toledo) ready for a breakout  positive\n",
       "4       4  Finnish M-real 's Kyro mill is starting negoti...   neutral\n",
       "..    ...                                                ...       ...\n",
       "95     95  According to Bosse , the present cooperation i...  positive\n",
       "96     96                        $NUGT Gold above 1400...wow  positive\n",
       "97     97  In Finland , Hamina Cargo Terminal , of Finnis...   neutral\n",
       "98     98  Small investors have voiced fears that the sha...   neutral\n",
       "99     99                  Other details were not provided .   neutral\n",
       "\n",
       "[100 rows x 3 columns]"
      ]
     },
     "execution_count": 398,
     "metadata": {},
     "output_type": "execute_result"
    }
   ],
   "source": [
    "df_validation"
   ]
  },
  {
   "cell_type": "markdown",
   "id": "63631ef8-cfe0-4e49-950c-82e3b2006943",
   "metadata": {},
   "source": [
    "## 5. Prompt Engineering "
   ]
  },
  {
   "cell_type": "code",
   "execution_count": 400,
   "id": "385d4414-bb75-4258-8a4a-c80c9e4fd8f3",
   "metadata": {},
   "outputs": [],
   "source": [
    "\n",
    "system_message = '''\n",
    "            As a financial analyst, your task is to analyse the given information or news and identify the sentiment. \n",
    "            Please output one of followings: \"positive\", \"negative\" or \"neutral\". \n",
    "            please output the confidence score ranging between 0 to 1 which indicates your level of cetrainity.\n",
    "            Output should be in JSON format. Please output the key of each sentence also.\n",
    "            \n",
    "        \n",
    "          '''\n",
    "\n",
    "user_message_1 = '''\n",
    "                Below are the list of the sentences:  \\\n",
    "                {0: \"The measures result from weak demand in the shipbuilding industry .\"\n",
    "                 1: \"The closing of such transaction took place today .\"\n",
    "                 2: \"The operating loss amounted to EUR 0.8 mn , compared to a profit of EUR 3.9 mn a year earlier .\"\n",
    "                 }\n",
    "                \n",
    "                '''\n",
    "\n",
    "assistant_message_1 = ''' \n",
    "                        {\"0\":[\"negative\", 0.8], \"1\" : [\"neutral\", 0.9], \"2\" : [\"neutral\", 0.9]}\n",
    "                      '''\n",
    "\n",
    "\n",
    "\n",
    "user_message_2 = ''' \n",
    "                Below are the list of the sentences:  \\\n",
    "                {3: \"We are pleased to welcome Tapeks Noma into Cramo group .\"\n",
    "                 4: \"Adjusted for changes in the Group structure , the Division 's net sales increased by 1.7 % .\"\n",
    "                 5: \"The number of bodily injury cases quadrupled in 2000-2006 .\"}\n",
    "\n",
    "                 '''\n",
    "\n",
    "\n",
    "assistant_message_2 = ''' \n",
    "                        {\"3\":[\"positive\", 0.95], \"4\" : [\"positive\", 0.9], \"5\" : [\"negative\", 1]}\n",
    "                      '''\n",
    "\n",
    "user_message = ''' Below are the list of the sentences:  \\\n",
    "                    {}\n",
    "               '''"
   ]
  },
  {
   "cell_type": "markdown",
   "id": "08a2df6c-a3eb-4411-bcde-4980727670e5",
   "metadata": {},
   "source": [
    "## 6. Running the LLM "
   ]
  },
  {
   "cell_type": "code",
   "execution_count": 401,
   "id": "fd49fe0e-5e05-4ae0-b54c-8442ebaf6c9b",
   "metadata": {},
   "outputs": [
    {
     "name": "stdout",
     "output_type": "stream",
     "text": [
      "2024-04-19 10:37:06.421058\n",
      "0\n",
      "1\n",
      "2\n",
      "3\n",
      "4\n",
      "5\n",
      "6\n",
      "7\n",
      "8\n",
      "9\n",
      "2024-04-19 10:37:37.664355\n",
      "time in seconds 31.243297\n"
     ]
    }
   ],
   "source": [
    "batch_size = 10\n",
    "num_batches = math.ceil(df_validation.shape[0]/batch_size)\n",
    "df_final_results = pd.DataFrame()\n",
    "prompt_tokens_list = []\n",
    "completion_tokens_list = []\n",
    "start_time = datetime.now() \n",
    "print(start_time)\n",
    "for batch in range(10):\n",
    "\n",
    "    keys = df_validation[\"index\"].values[batch*batch_size:batch_size+batch*batch_size]\n",
    "    sentences = df_validation[\"Sentence\"].values[batch*batch_size:batch_size+batch*batch_size]\n",
    "    sentence_dict = dict(zip(keys, sentences))\n",
    "    messages = [{\"role\": \"system\", \"content\": system_message},\n",
    "               {\"role\": \"user\", \"content\": user_message_1},\n",
    "               {\"role\": \"assistant\", \"content\": assistant_message_1},\n",
    "               {\"role\": \"user\", \"content\": user_message_2},\n",
    "               {\"role\": \"assistant\", \"content\": assistant_message_2},\n",
    "               {\"role\": \"user\", \"content\": user_message.format(sentence_dict)}]\n",
    "    response  = chat_completion_request(messages, tools=None, tool_choice=None, model=GPT_MODEL)\n",
    "    response_ = response.choices[0].message.content\n",
    "    prompt_tokens_list.append(response.usage.prompt_tokens)\n",
    "    completion_tokens_list.append(response.usage.completion_tokens)\n",
    "    \n",
    "    llm_output_json = eval(response_.strip('\\''))\n",
    "    llm_output_json1 = {int(key):llm_output_json[key] for key in llm_output_json}\n",
    "    df_results = pd.DataFrame.from_dict(llm_output_json1).T.reset_index()\n",
    "    df_results.columns = [\"index\", \"Sentiment_LLM\", \"Confidence_Score\"]\n",
    "    df_final_results = pd.concat([ df_final_results, df_results])\n",
    "\n",
    "end_time = datetime.now()\n",
    "time_difference = (end_time - start_time).total_seconds()\n",
    "\n",
    "print(end_time)    \n",
    "print(\"time in seconds\", time_difference)"
   ]
  },
  {
   "cell_type": "code",
   "execution_count": 413,
   "id": "e484103e-24e9-4428-8a65-f403168bc7e7",
   "metadata": {},
   "outputs": [
    {
     "name": "stdout",
     "output_type": "stream",
     "text": [
      "Average Input Tokens:  684.4\n",
      "Average Completion Tokens:  122.9\n"
     ]
    }
   ],
   "source": [
    "print(\"Average Input Tokens: \", np.mean(prompt_tokens_list))\n",
    "print(\"Average Completion Tokens: \", np.mean(completion_tokens_list))"
   ]
  },
  {
   "cell_type": "code",
   "execution_count": 412,
   "id": "d9e5730f-9c29-4bfc-8e42-a5ef3100b631",
   "metadata": {},
   "outputs": [
    {
     "data": {
      "text/plain": [
       "684.4"
      ]
     },
     "execution_count": 412,
     "metadata": {},
     "output_type": "execute_result"
    }
   ],
   "source": [
    "np.mean(prompt_tokens_list)"
   ]
  },
  {
   "cell_type": "markdown",
   "id": "f3e4196a-417c-4982-9afd-2aee7ceef9a9",
   "metadata": {},
   "source": [
    "## 7. Result Analysis"
   ]
  },
  {
   "cell_type": "code",
   "execution_count": 410,
   "id": "7b684c82-1ad8-4b3c-8383-52f5d1efacf7",
   "metadata": {},
   "outputs": [
    {
     "name": "stdout",
     "output_type": "stream",
     "text": [
      "Accuracy =:  67.0 %\n"
     ]
    }
   ],
   "source": [
    "df_final_results1  = df_final_results.merge(df_validation, how=\"left\" ) \n",
    "df_final_results1[\"IS_MATCH\"] = np.where(df_final_results1[\"Sentiment_LLM\"]==df_final_results1[\"Sentiment\"], 1, 0)\n",
    "accuracy = df_final_results1[\"IS_MATCH\"].sum()*100/df_final_results1.shape[0]\n",
    "print(\"Accuracy =: \", accuracy, \"%\")"
   ]
  }
 ],
 "metadata": {
  "kernelspec": {
   "display_name": "Python 3 (ipykernel)",
   "language": "python",
   "name": "python3"
  },
  "language_info": {
   "codemirror_mode": {
    "name": "ipython",
    "version": 3
   },
   "file_extension": ".py",
   "mimetype": "text/x-python",
   "name": "python",
   "nbconvert_exporter": "python",
   "pygments_lexer": "ipython3",
   "version": "3.11.7"
  }
 },
 "nbformat": 4,
 "nbformat_minor": 5
}
